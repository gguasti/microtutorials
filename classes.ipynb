{
 "cells": [
  {
   "cell_type": "markdown",
   "metadata": {},
   "source": [
    "# Tutorial sulle Classi"
   ]
  },
  {
   "cell_type": "markdown",
   "metadata": {},
   "source": [
    "Questo è il mio primo tutorial con Jupyter Notebook.\n",
    "Definisco una classe poltrona con alcune funzioni."
   ]
  },
  {
   "cell_type": "code",
   "execution_count": 1,
   "metadata": {},
   "outputs": [],
   "source": [
    "class poltrona:\n",
    "    maxpeso = 200\n",
    "    colore = \"rossa\"\n",
    "    pesotot = 0\n",
    "\n",
    "    def __init__(self):    # special method __init__\n",
    "        self.occupanti = []\n",
    "\n",
    "    def siede(self,chi,peso):\n",
    "        test = self.pesotot + peso\n",
    "        if test > self.maxpeso:\n",
    "            return (\"peso %d eccessivo\" % test)\n",
    "        else:\n",
    "            self.occupanti.append([chi,peso])\n",
    "            self.pesotot += peso\n",
    "            return (\"%s si è seduto\" % chi)\n",
    "\n",
    "    def alza(self):\n",
    "        if self.occupanti != []:\n",
    "            alzato = self.occupanti.pop()\n",
    "            self.pesotot -= alzato[1]\n",
    "            return (\"%s si è alzato\" % alzato[0])\n",
    "        else:\n",
    "            return \"poltrona vuota\"\n"
   ]
  },
  {
   "cell_type": "markdown",
   "metadata": {},
   "source": [
    "Ora creo un oggetto con le proprietà della classe poltrona. Cioè creo una poltrona."
   ]
  },
  {
   "cell_type": "code",
   "execution_count": 2,
   "metadata": {},
   "outputs": [],
   "source": [
    "p = poltrona()"
   ]
  },
  {
   "cell_type": "markdown",
   "metadata": {},
   "source": [
    "La poltrona è rossa e appena Chiara la vede ci si siede"
   ]
  },
  {
   "cell_type": "code",
   "execution_count": 3,
   "metadata": {
    "scrolled": true
   },
   "outputs": [
    {
     "name": "stdout",
     "output_type": "stream",
     "text": [
      "rossa\n",
      "chiara si è seduto\n",
      "[['chiara', 35]]\n",
      "35\n"
     ]
    }
   ],
   "source": [
    "print(p.colore)\n",
    "print(p.siede(\"chiara\",35))\n",
    "print(p.occupanti)\n",
    "print(p.pesotot)"
   ]
  },
  {
   "cell_type": "code",
   "execution_count": 4,
   "metadata": {},
   "outputs": [
    {
     "name": "stdout",
     "output_type": "stream",
     "text": [
      "elena si è seduto\n",
      "niccolo si è seduto\n",
      "peso 201 eccessivo\n",
      "pippo si è seduto\n",
      "peso 225 eccessivo\n"
     ]
    }
   ],
   "source": [
    "print(p.siede(\"elena\",45))\n",
    "print(p.siede(\"niccolo\",75))\n",
    "print(p.siede(\"isa\",46))\n",
    "print(p.siede(\"pippo\",35))\n",
    "print(p.siede(\"ada\",35))"
   ]
  },
  {
   "cell_type": "code",
   "execution_count": 5,
   "metadata": {},
   "outputs": [
    {
     "name": "stdout",
     "output_type": "stream",
     "text": [
      "[['chiara', 35], ['elena', 45], ['niccolo', 75], ['pippo', 35]]\n",
      "pippo si è alzato\n",
      "niccolo si è alzato\n",
      "elena si è alzato\n",
      "chiara si è alzato\n",
      "poltrona vuota\n"
     ]
    }
   ],
   "source": [
    "print(p.occupanti)\n",
    "print(p.alza())\n",
    "print(p.alza())\n",
    "print(p.alza())\n",
    "print(p.alza())\n",
    "print(p.alza())"
   ]
  },
  {
   "cell_type": "markdown",
   "metadata": {},
   "source": [
    "Qui finisce il primo tutorial"
   ]
  },
  {
   "cell_type": "markdown",
   "metadata": {},
   "source": [
    "# Esempi\n",
    "## This is a level 2 heading\n",
    "This is some plain text that forms a paragraph.\n",
    "Add emphasis via **bold** and __bold__, or *italic* and _italic_.\n",
    "\n",
    "Paragraphs must be separated by an empty line.\n",
    "\n",
    "* Sometimes we want to include lists.\n",
    " * Which can be indented.\n",
    "\n",
    "1. Lists can also be numbered.\n",
    "2. For ordered lists.\n",
    "\n",
    "[It is possible to include hyperlinks](https://www.example.com)\n",
    "\n",
    "Inline code uses single backticks: `foo()`, and code blocks use triple backticks:\n",
    "\n",
    "```\n",
    "bar()\n",
    "```\n",
    "\n",
    "Or can be intented by 4 spaces:\n",
    "\n",
    "    foo()\n",
    "\n",
    "And finally, adding images is easy: ![Alt text](https://www.example.com/image.jpg)"
   ]
  }
 ],
 "metadata": {
  "kernelspec": {
   "display_name": "Python 3",
   "language": "python",
   "name": "python3"
  },
  "language_info": {
   "codemirror_mode": {
    "name": "ipython",
    "version": 3
   },
   "file_extension": ".py",
   "mimetype": "text/x-python",
   "name": "python",
   "nbconvert_exporter": "python",
   "pygments_lexer": "ipython3",
   "version": "3.7.0"
  }
 },
 "nbformat": 4,
 "nbformat_minor": 2
}
